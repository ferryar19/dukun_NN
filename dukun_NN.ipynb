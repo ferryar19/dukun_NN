{
  "nbformat": 4,
  "nbformat_minor": 0,
  "metadata": {
    "colab": {
      "provenance": []
    },
    "kernelspec": {
      "name": "python3",
      "display_name": "Python 3"
    },
    "language_info": {
      "name": "python"
    }
  },
  "cells": [
    {
      "cell_type": "code",
      "execution_count": 1,
      "metadata": {
        "id": "K1DK1UOfbghm"
      },
      "outputs": [],
      "source": [
        "import numpy as np\n",
        "from tensorflow.keras.models import Sequential\n",
        "from tensorflow.keras.layers import Dense"
      ]
    },
    {
      "cell_type": "code",
      "source": [
        "# Data latih\n",
        "X_train = np.array([[2000, 3, 2], [1500, 2, 1], [3000, 4, 3], [2500, 3, 2], [1800, 2, 2]], dtype=float)\n",
        "y_train = np.array([450000, 300000, 650000, 500000, 400000], dtype=float)"
      ],
      "metadata": {
        "id": "Fi5wMAqibk8R"
      },
      "execution_count": 2,
      "outputs": []
    },
    {
      "cell_type": "code",
      "source": [
        "# Membuat model Sequential\n",
        "model = Sequential()"
      ],
      "metadata": {
        "id": "GklKg8ZDbo8w"
      },
      "execution_count": 3,
      "outputs": []
    },
    {
      "cell_type": "code",
      "source": [
        "# Menambahkan layer input dan hidden layer\n",
        "model.add(Dense(8, input_dim=3, activation='relu'))\n",
        "model.add(Dense(8, activation='relu'))"
      ],
      "metadata": {
        "id": "VsVvM7Ribq9N"
      },
      "execution_count": 4,
      "outputs": []
    },
    {
      "cell_type": "code",
      "source": [
        "# Menambahkan layer output\n",
        "model.add(Dense(1))"
      ],
      "metadata": {
        "id": "2ShbgiWnbtPE"
      },
      "execution_count": 5,
      "outputs": []
    },
    {
      "cell_type": "code",
      "source": [
        "# Mengompilasi model\n",
        "model.compile(loss='mean_squared_error', optimizer='adam')"
      ],
      "metadata": {
        "id": "Hy7xi7v2bv3u"
      },
      "execution_count": 6,
      "outputs": []
    },
    {
      "cell_type": "code",
      "source": [
        "# Melatih model\n",
        "model.fit(X_train, y_train, epochs=100, verbose=0)"
      ],
      "metadata": {
        "colab": {
          "base_uri": "https://localhost:8080/"
        },
        "id": "U8QWU8Tdbx2_",
        "outputId": "89d788f3-727d-4145-abeb-8810a212c9f9"
      },
      "execution_count": 7,
      "outputs": [
        {
          "output_type": "execute_result",
          "data": {
            "text/plain": [
              "<keras.src.callbacks.History at 0x7fcdb42a7580>"
            ]
          },
          "metadata": {},
          "execution_count": 7
        }
      ]
    },
    {
      "cell_type": "code",
      "source": [
        "# Membuat data baru untuk diprediksi\n",
        "X_new = np.array([[2200, 3, 2], [2800, 4, 2]])"
      ],
      "metadata": {
        "id": "ZuE7005abzkH"
      },
      "execution_count": 8,
      "outputs": []
    },
    {
      "cell_type": "code",
      "source": [
        "# Memprediksi harga rumah\n",
        "predictions = model.predict(X_new)"
      ],
      "metadata": {
        "colab": {
          "base_uri": "https://localhost:8080/"
        },
        "id": "IB6LoiKtb2gI",
        "outputId": "65c70eeb-8275-4853-8c21-7b004f989525"
      },
      "execution_count": 9,
      "outputs": [
        {
          "output_type": "stream",
          "name": "stdout",
          "text": [
            "1/1 [==============================] - 0s 94ms/step\n"
          ]
        }
      ]
    },
    {
      "cell_type": "code",
      "source": [
        "# Menampilkan prediksi\n",
        "for prediction in predictions:\n",
        "    print(f\"Prediksi harga rumah: Rp.{int(prediction):,}\")"
      ],
      "metadata": {
        "colab": {
          "base_uri": "https://localhost:8080/"
        },
        "id": "1vsMSK5Hb4LD",
        "outputId": "aa09f5f1-fce1-48cc-ae84-22621ef63be7"
      },
      "execution_count": 11,
      "outputs": [
        {
          "output_type": "stream",
          "name": "stdout",
          "text": [
            "Prediksi harga rumah: Rp.-36\n",
            "Prediksi harga rumah: Rp.-46\n"
          ]
        },
        {
          "output_type": "stream",
          "name": "stderr",
          "text": [
            "<ipython-input-11-e14a06f882f1>:3: DeprecationWarning: Conversion of an array with ndim > 0 to a scalar is deprecated, and will error in future. Ensure you extract a single element from your array before performing this operation. (Deprecated NumPy 1.25.)\n",
            "  print(f\"Prediksi harga rumah: Rp.{int(prediction):,}\")\n"
          ]
        }
      ]
    },
    {
      "cell_type": "code",
      "source": [],
      "metadata": {
        "id": "c4oRiHg5b6zY"
      },
      "execution_count": null,
      "outputs": []
    }
  ]
}